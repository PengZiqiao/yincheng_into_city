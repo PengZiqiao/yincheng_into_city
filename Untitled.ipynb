{
 "cells": [
  {
   "cell_type": "code",
   "execution_count": 1,
   "metadata": {},
   "outputs": [
    {
     "name": "stdout",
     "output_type": "stream",
     "text": [
      "[*] 登陆完成！\n"
     ]
    }
   ],
   "source": [
    "from query import Query\n",
    "q = Query('江苏省', '徐州')\n",
    "\n",
    "plate = {\n",
    "    '泉山区':['城西板块','食品城板块','中心区板块'],\n",
    "    '鼓楼区': ['城北板块', '金山桥板块','九里板块','高铁东城板块'],\n",
    "    '云龙区':['城东板块','新城区板块'],\n",
    "    '铜山区':['北京路板块','大学路板块','高新区板块','娇山湖板块','铜山区其他乡镇'],\n",
    "    '贾汪区': ['贾汪区'],\n",
    "}"
   ]
  },
  {
   "cell_type": "code",
   "execution_count": 20,
   "metadata": {},
   "outputs": [
    {
     "name": "stdout",
     "output_type": "stream",
     "text": [
      "[*] 登陆完成后按回车保存cookies...\n",
      "\n"
     ]
    }
   ],
   "source": [
    "q.relogin()"
   ]
  },
  {
   "cell_type": "markdown",
   "metadata": {},
   "source": [
    "### 年度经营用地分用途占地面积"
   ]
  },
  {
   "cell_type": "code",
   "execution_count": null,
   "metadata": {
    "collapsed": true
   },
   "outputs": [],
   "source": []
  }
 ],
 "metadata": {
  "kernelspec": {
   "display_name": "Python 3",
   "language": "python",
   "name": "python3"
  },
  "language_info": {
   "codemirror_mode": {
    "name": "ipython",
    "version": 3
   },
   "file_extension": ".py",
   "mimetype": "text/x-python",
   "name": "python",
   "nbconvert_exporter": "python",
   "pygments_lexer": "ipython3",
   "version": "3.6.3"
  }
 },
 "nbformat": 4,
 "nbformat_minor": 2
}
